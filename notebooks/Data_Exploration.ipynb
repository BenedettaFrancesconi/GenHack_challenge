{
 "cells": [
  {
   "cell_type": "code",
   "execution_count": 1,
   "metadata": {},
   "outputs": [],
   "source": [
    "import pandas as pd\n",
    "import numpy as np"
   ]
  },
  {
   "cell_type": "code",
   "execution_count": 2,
   "metadata": {},
   "outputs": [
    {
     "name": "stdout",
     "output_type": "stream",
     "text": [
      "df_train.csv  noise.npy\r\n"
     ]
    }
   ],
   "source": [
    "ls ../data/"
   ]
  },
  {
   "cell_type": "code",
   "execution_count": 25,
   "metadata": {},
   "outputs": [],
   "source": [
    "df = pd.read_csv('../data/df_train.csv')\n",
    "nf = np.load('../data/noise.npy')"
   ]
  },
  {
   "cell_type": "code",
   "execution_count": 5,
   "metadata": {},
   "outputs": [
    {
     "data": {
      "text/html": [
       "<div>\n",
       "<style scoped>\n",
       "    .dataframe tbody tr th:only-of-type {\n",
       "        vertical-align: middle;\n",
       "    }\n",
       "\n",
       "    .dataframe tbody tr th {\n",
       "        vertical-align: top;\n",
       "    }\n",
       "\n",
       "    .dataframe thead th {\n",
       "        text-align: right;\n",
       "    }\n",
       "</style>\n",
       "<table border=\"1\" class=\"dataframe\">\n",
       "  <thead>\n",
       "    <tr style=\"text-align: right;\">\n",
       "      <th></th>\n",
       "      <th>dates</th>\n",
       "      <th>s1</th>\n",
       "      <th>s2</th>\n",
       "      <th>s3</th>\n",
       "      <th>s4</th>\n",
       "      <th>s5</th>\n",
       "      <th>s6</th>\n",
       "    </tr>\n",
       "  </thead>\n",
       "  <tbody>\n",
       "    <tr>\n",
       "      <td>0</td>\n",
       "      <td>1981-09-01</td>\n",
       "      <td>1.686270</td>\n",
       "      <td>-0.794102</td>\n",
       "      <td>1.148352</td>\n",
       "      <td>1.158114</td>\n",
       "      <td>2.024443</td>\n",
       "      <td>1.038107</td>\n",
       "    </tr>\n",
       "    <tr>\n",
       "      <td>1</td>\n",
       "      <td>1981-09-02</td>\n",
       "      <td>1.749894</td>\n",
       "      <td>-0.742321</td>\n",
       "      <td>1.016314</td>\n",
       "      <td>1.281761</td>\n",
       "      <td>2.149033</td>\n",
       "      <td>0.601557</td>\n",
       "    </tr>\n",
       "    <tr>\n",
       "      <td>2</td>\n",
       "      <td>1981-09-03</td>\n",
       "      <td>1.475208</td>\n",
       "      <td>-0.749156</td>\n",
       "      <td>0.936533</td>\n",
       "      <td>1.386429</td>\n",
       "      <td>2.176159</td>\n",
       "      <td>3.646527</td>\n",
       "    </tr>\n",
       "    <tr>\n",
       "      <td>3</td>\n",
       "      <td>1981-09-04</td>\n",
       "      <td>1.622190</td>\n",
       "      <td>-0.724582</td>\n",
       "      <td>0.938976</td>\n",
       "      <td>1.502116</td>\n",
       "      <td>2.345862</td>\n",
       "      <td>3.182967</td>\n",
       "    </tr>\n",
       "    <tr>\n",
       "      <td>4</td>\n",
       "      <td>1981-09-05</td>\n",
       "      <td>1.750866</td>\n",
       "      <td>-0.858571</td>\n",
       "      <td>0.993645</td>\n",
       "      <td>1.808782</td>\n",
       "      <td>2.388112</td>\n",
       "      <td>3.040866</td>\n",
       "    </tr>\n",
       "  </tbody>\n",
       "</table>\n",
       "</div>"
      ],
      "text/plain": [
       "        dates        s1        s2        s3        s4        s5        s6\n",
       "0  1981-09-01  1.686270 -0.794102  1.148352  1.158114  2.024443  1.038107\n",
       "1  1981-09-02  1.749894 -0.742321  1.016314  1.281761  2.149033  0.601557\n",
       "2  1981-09-03  1.475208 -0.749156  0.936533  1.386429  2.176159  3.646527\n",
       "3  1981-09-04  1.622190 -0.724582  0.938976  1.502116  2.345862  3.182967\n",
       "4  1981-09-05  1.750866 -0.858571  0.993645  1.808782  2.388112  3.040866"
      ]
     },
     "execution_count": 5,
     "metadata": {},
     "output_type": "execute_result"
    }
   ],
   "source": [
    "df.head()"
   ]
  },
  {
   "cell_type": "code",
   "execution_count": 7,
   "metadata": {},
   "outputs": [
    {
     "data": {
      "text/html": [
       "<div>\n",
       "<style scoped>\n",
       "    .dataframe tbody tr th:only-of-type {\n",
       "        vertical-align: middle;\n",
       "    }\n",
       "\n",
       "    .dataframe tbody tr th {\n",
       "        vertical-align: top;\n",
       "    }\n",
       "\n",
       "    .dataframe thead th {\n",
       "        text-align: right;\n",
       "    }\n",
       "</style>\n",
       "<table border=\"1\" class=\"dataframe\">\n",
       "  <thead>\n",
       "    <tr style=\"text-align: right;\">\n",
       "      <th></th>\n",
       "      <th>s1</th>\n",
       "      <th>s2</th>\n",
       "      <th>s3</th>\n",
       "      <th>s4</th>\n",
       "      <th>s5</th>\n",
       "      <th>s6</th>\n",
       "    </tr>\n",
       "  </thead>\n",
       "  <tbody>\n",
       "    <tr>\n",
       "      <td>count</td>\n",
       "      <td>9.618000e+03</td>\n",
       "      <td>9.618000e+03</td>\n",
       "      <td>9.618000e+03</td>\n",
       "      <td>9.618000e+03</td>\n",
       "      <td>9.618000e+03</td>\n",
       "      <td>9.618000e+03</td>\n",
       "    </tr>\n",
       "    <tr>\n",
       "      <td>mean</td>\n",
       "      <td>-7.723636e-10</td>\n",
       "      <td>-8.481431e-10</td>\n",
       "      <td>-7.217102e-10</td>\n",
       "      <td>4.020371e-10</td>\n",
       "      <td>-8.459265e-10</td>\n",
       "      <td>3.006375e-10</td>\n",
       "    </tr>\n",
       "    <tr>\n",
       "      <td>std</td>\n",
       "      <td>1.376840e+00</td>\n",
       "      <td>1.814646e+00</td>\n",
       "      <td>1.560068e+00</td>\n",
       "      <td>1.201938e+00</td>\n",
       "      <td>1.689740e+00</td>\n",
       "      <td>1.877622e+00</td>\n",
       "    </tr>\n",
       "    <tr>\n",
       "      <td>min</td>\n",
       "      <td>-3.919463e+00</td>\n",
       "      <td>-8.138753e+00</td>\n",
       "      <td>-4.672737e+00</td>\n",
       "      <td>-3.417235e+00</td>\n",
       "      <td>-4.753356e+00</td>\n",
       "      <td>-6.001398e+00</td>\n",
       "    </tr>\n",
       "    <tr>\n",
       "      <td>25%</td>\n",
       "      <td>-9.654350e-01</td>\n",
       "      <td>-1.142452e+00</td>\n",
       "      <td>-1.088221e+00</td>\n",
       "      <td>-8.528599e-01</td>\n",
       "      <td>-1.282145e+00</td>\n",
       "      <td>-1.246043e+00</td>\n",
       "    </tr>\n",
       "    <tr>\n",
       "      <td>50%</td>\n",
       "      <td>-9.164308e-02</td>\n",
       "      <td>-4.106771e-02</td>\n",
       "      <td>4.618392e-03</td>\n",
       "      <td>4.247350e-02</td>\n",
       "      <td>6.728978e-02</td>\n",
       "      <td>-5.308911e-02</td>\n",
       "    </tr>\n",
       "    <tr>\n",
       "      <td>75%</td>\n",
       "      <td>8.711537e-01</td>\n",
       "      <td>1.118576e+00</td>\n",
       "      <td>1.002223e+00</td>\n",
       "      <td>6.427860e-01</td>\n",
       "      <td>1.262107e+00</td>\n",
       "      <td>1.174313e+00</td>\n",
       "    </tr>\n",
       "    <tr>\n",
       "      <td>max</td>\n",
       "      <td>7.630250e+00</td>\n",
       "      <td>6.395051e+00</td>\n",
       "      <td>6.317432e+00</td>\n",
       "      <td>6.075079e+00</td>\n",
       "      <td>6.753901e+00</td>\n",
       "      <td>7.016516e+00</td>\n",
       "    </tr>\n",
       "  </tbody>\n",
       "</table>\n",
       "</div>"
      ],
      "text/plain": [
       "                 s1            s2            s3            s4            s5  \\\n",
       "count  9.618000e+03  9.618000e+03  9.618000e+03  9.618000e+03  9.618000e+03   \n",
       "mean  -7.723636e-10 -8.481431e-10 -7.217102e-10  4.020371e-10 -8.459265e-10   \n",
       "std    1.376840e+00  1.814646e+00  1.560068e+00  1.201938e+00  1.689740e+00   \n",
       "min   -3.919463e+00 -8.138753e+00 -4.672737e+00 -3.417235e+00 -4.753356e+00   \n",
       "25%   -9.654350e-01 -1.142452e+00 -1.088221e+00 -8.528599e-01 -1.282145e+00   \n",
       "50%   -9.164308e-02 -4.106771e-02  4.618392e-03  4.247350e-02  6.728978e-02   \n",
       "75%    8.711537e-01  1.118576e+00  1.002223e+00  6.427860e-01  1.262107e+00   \n",
       "max    7.630250e+00  6.395051e+00  6.317432e+00  6.075079e+00  6.753901e+00   \n",
       "\n",
       "                 s6  \n",
       "count  9.618000e+03  \n",
       "mean   3.006375e-10  \n",
       "std    1.877622e+00  \n",
       "min   -6.001398e+00  \n",
       "25%   -1.246043e+00  \n",
       "50%   -5.308911e-02  \n",
       "75%    1.174313e+00  \n",
       "max    7.016516e+00  "
      ]
     },
     "execution_count": 7,
     "metadata": {},
     "output_type": "execute_result"
    }
   ],
   "source": [
    "df.describe()"
   ]
  },
  {
   "cell_type": "code",
   "execution_count": 8,
   "metadata": {},
   "outputs": [],
   "source": [
    "import matplotlib.pyplot as plt\n"
   ]
  },
  {
   "cell_type": "code",
   "execution_count": 19,
   "metadata": {},
   "outputs": [
    {
     "data": {
      "image/png": "[encoded data removed]",
      "text/plain": [
       "<Figure size 432x288 with 1 Axes>"
      ]
     },
     "metadata": {
      "needs_background": "light"
     },
     "output_type": "display_data"
    }
   ],
   "source": [
    "plt.plot(df['dates'][::100],df['s1'][::100], label ='s1')\n",
    "plt.plot(df['dates'][::100],df['s2'][::100], label ='s2')\n",
    "plt.plot(df['dates'][::100],df['s3'][::100], label='s3')\n",
    "plt.plot(df['dates'][::100],df['s4'][::100], label ='s4')\n",
    "plt.plot(df['dates'][::100],df['s5'][::100], label ='s5')\n",
    "plt.plot(df['dates'][::100],df['s6'][::100], label = 's6')\n",
    "plt.legend()\n",
    "plt.show()"
   ]
  },
  {
   "cell_type": "code",
   "execution_count": 20,
   "metadata": {},
   "outputs": [
    {
     "data": {
      "image/png": "[encoded data removed]",
      "text/plain": [
       "<Figure size 432x288 with 1 Axes>"
      ]
     },
     "metadata": {
      "needs_background": "light"
     },
     "output_type": "display_data"
    }
   ],
   "source": [
    "plt.plot(df['dates'][::30],df['s1'][::30], label ='s1')\n",
    "plt.plot(df['dates'][::30],df['s2'][::30], label ='s2')\n",
    "plt.plot(df['dates'][::30],df['s3'][::30], label='s3')\n",
    "plt.plot(df['dates'][::30],df['s4'][::30], label ='s4')\n",
    "plt.plot(df['dates'][::30],df['s5'][::30], label ='s5')\n",
    "plt.plot(df['dates'][::30],df['s6'][::30], label = 's6')\n",
    "plt.legend()\n",
    "plt.show()"
   ]
  },
  {
   "cell_type": "code",
   "execution_count": 21,
   "metadata": {},
   "outputs": [
    {
     "data": {
      "image/png": "[encoded data removed]",
      "text/plain": [
       "<Figure size 432x288 with 1 Axes>"
      ]
     },
     "metadata": {
      "needs_background": "light"
     },
     "output_type": "display_data"
    }
   ],
   "source": [
    "plt.plot(df['dates'][::30],df['s1'][::30], label ='s1')\n",
    "\n",
    "plt.legend()\n",
    "plt.show()"
   ]
  },
  {
   "cell_type": "code",
   "execution_count": 39,
   "metadata": {
    "collapsed": true
   },
   "outputs": [
    {
     "data": {
      "image/png": "[encoded data removed]",
      "text/plain": [
       "<Figure size 432x288 with 1 Axes>"
      ]
     },
     "metadata": {
      "needs_background": "light"
     },
     "output_type": "display_data"
    },
    {
     "data": {
      "image/png": "[encoded data removed]",
      "text/plain": [
       "<Figure size 432x288 with 1 Axes>"
      ]
     },
     "metadata": {
      "needs_background": "light"
     },
     "output_type": "display_data"
    },
    {
     "data": {
      "image/png": "[encoded data removed]",
      "text/plain": [
       "<Figure size 432x288 with 1 Axes>"
      ]
     },
     "metadata": {
      "needs_background": "light"
     },
     "output_type": "display_data"
    },
    {
     "data": {
      "image/png": "[encoded data removed]",
      "text/plain": [
       "<Figure size 432x288 with 1 Axes>"
      ]
     },
     "metadata": {
      "needs_background": "light"
     },
     "output_type": "display_data"
    },
    {
     "data": {
      "image/png": "[encoded data removed]",
      "text/plain": [
       "<Figure size 432x288 with 1 Axes>"
      ]
     },
     "metadata": {
      "needs_background": "light"
     },
     "output_type": "display_data"
    },
    {
     "data": {
      "image/png": "[encoded data removed]",
      "text/plain": [
       "<Figure size 432x288 with 1 Axes>"
      ]
     },
     "metadata": {
      "needs_background": "light"
     },
     "output_type": "display_data"
    }
   ],
   "source": [
    "\n",
    "plt.plot([df['s1'][x:x+365].mean() for x in range(26)])\n",
    "plt.show()\n",
    "plt.plot([df['s2'][x:x+365].mean() for x in range(26)])\n",
    "plt.show()\n",
    "\n",
    "plt.plot([df['s3'][x:x+365].mean() for x in range(26)])\n",
    "plt.show()\n",
    "\n",
    "plt.plot([df['s4'][x:x+365].mean() for x in range(26)])\n",
    "plt.show()\n",
    "\n",
    "plt.plot([df['s5'][x:x+365].mean() for x in range(26)])\n",
    "plt.show()\n",
    "\n",
    "plt.plot([df['s6'][x:x+365].mean() for x in range(26)])\n",
    "plt.show()"
   ]
  },
  {
   "cell_type": "code",
   "execution_count": 40,
   "metadata": {
    "collapsed": true
   },
   "outputs": [
    {
     "data": {
      "image/png": "[encoded data removed]",
      "text/plain": [
       "<Figure size 432x288 with 1 Axes>"
      ]
     },
     "metadata": {
      "needs_background": "light"
     },
     "output_type": "display_data"
    },
    {
     "data": {
      "image/png": "[encoded data removed]",
      "text/plain": [
       "<Figure size 432x288 with 1 Axes>"
      ]
     },
     "metadata": {
      "needs_background": "light"
     },
     "output_type": "display_data"
    },
    {
     "data": {
      "image/png": "[encoded data removed]",
      "text/plain": [
       "<Figure size 432x288 with 1 Axes>"
      ]
     },
     "metadata": {
      "needs_background": "light"
     },
     "output_type": "display_data"
    },
    {
     "data": {
      "image/png": "[encoded data removed]",
      "text/plain": [
       "<Figure size 432x288 with 1 Axes>"
      ]
     },
     "metadata": {
      "needs_background": "light"
     },
     "output_type": "display_data"
    },
    {
     "data": {
      "image/png": "[encoded data removed]",
      "text/plain": [
       "<Figure size 432x288 with 1 Axes>"
      ]
     },
     "metadata": {
      "needs_background": "light"
     },
     "output_type": "display_data"
    },
    {
     "data": {
      "image/png": "[encoded data removed]",
      "text/plain": [
       "<Figure size 432x288 with 1 Axes>"
      ]
     },
     "metadata": {
      "needs_background": "light"
     },
     "output_type": "display_data"
    }
   ],
   "source": [
    "\n",
    "plt.plot([df['s1'][x:x+365].std() for x in range(26)])\n",
    "plt.show()\n",
    "plt.plot([df['s2'][x:x+365].std() for x in range(26)])\n",
    "plt.show()\n",
    "\n",
    "plt.plot([df['s3'][x:x+365].std() for x in range(26)])\n",
    "plt.show()\n",
    "\n",
    "plt.plot([df['s4'][x:x+365].std() for x in range(26)])\n",
    "plt.show()\n",
    "\n",
    "plt.plot([df['s5'][x:x+365].std() for x in range(26)])\n",
    "plt.show()\n",
    "\n",
    "plt.plot([df['s6'][x:x+365].std() for x in range(26)])\n",
    "plt.show()"
   ]
  },
  {
   "cell_type": "code",
   "execution_count": 30,
   "metadata": {},
   "outputs": [
    {
     "data": {
      "text/plain": [
       "(10, 50)"
      ]
     },
     "execution_count": 30,
     "metadata": {},
     "output_type": "execute_result"
    }
   ],
   "source": [
    "nf.shape"
   ]
  },
  {
   "cell_type": "code",
   "execution_count": 31,
   "metadata": {
    "scrolled": true
   },
   "outputs": [
    {
     "data": {
      "text/plain": [
       "(9618, 7)"
      ]
     },
     "execution_count": 31,
     "metadata": {},
     "output_type": "execute_result"
    }
   ],
   "source": [
    "df.shape"
   ]
  },
  {
   "cell_type": "code",
   "execution_count": 34,
   "metadata": {},
   "outputs": [
    {
     "data": {
      "text/plain": [
       "26.350684931506848"
      ]
     },
     "execution_count": 34,
     "metadata": {},
     "output_type": "execute_result"
    }
   ],
   "source": [
    "9618/365"
   ]
  },
  {
   "cell_type": "code",
   "execution_count": 41,
   "metadata": {
    "collapsed": true
   },
   "outputs": [
    {
     "data": {
      "text/html": [
       "<div>\n",
       "<style scoped>\n",
       "    .dataframe tbody tr th:only-of-type {\n",
       "        vertical-align: middle;\n",
       "    }\n",
       "\n",
       "    .dataframe tbody tr th {\n",
       "        vertical-align: top;\n",
       "    }\n",
       "\n",
       "    .dataframe thead th {\n",
       "        text-align: right;\n",
       "    }\n",
       "</style>\n",
       "<table border=\"1\" class=\"dataframe\">\n",
       "  <thead>\n",
       "    <tr style=\"text-align: right;\">\n",
       "      <th></th>\n",
       "      <th>s1</th>\n",
       "      <th>s2</th>\n",
       "      <th>s3</th>\n",
       "      <th>s4</th>\n",
       "      <th>s5</th>\n",
       "      <th>s6</th>\n",
       "    </tr>\n",
       "  </thead>\n",
       "  <tbody>\n",
       "    <tr>\n",
       "      <td>0</td>\n",
       "      <td>1.686270</td>\n",
       "      <td>-0.794102</td>\n",
       "      <td>1.148352</td>\n",
       "      <td>1.158114</td>\n",
       "      <td>2.024443</td>\n",
       "      <td>1.038107</td>\n",
       "    </tr>\n",
       "    <tr>\n",
       "      <td>1</td>\n",
       "      <td>1.749894</td>\n",
       "      <td>-0.742321</td>\n",
       "      <td>1.016314</td>\n",
       "      <td>1.281761</td>\n",
       "      <td>2.149033</td>\n",
       "      <td>0.601557</td>\n",
       "    </tr>\n",
       "    <tr>\n",
       "      <td>2</td>\n",
       "      <td>1.475208</td>\n",
       "      <td>-0.749156</td>\n",
       "      <td>0.936533</td>\n",
       "      <td>1.386429</td>\n",
       "      <td>2.176159</td>\n",
       "      <td>3.646527</td>\n",
       "    </tr>\n",
       "    <tr>\n",
       "      <td>3</td>\n",
       "      <td>1.622190</td>\n",
       "      <td>-0.724582</td>\n",
       "      <td>0.938976</td>\n",
       "      <td>1.502116</td>\n",
       "      <td>2.345862</td>\n",
       "      <td>3.182967</td>\n",
       "    </tr>\n",
       "    <tr>\n",
       "      <td>4</td>\n",
       "      <td>1.750866</td>\n",
       "      <td>-0.858571</td>\n",
       "      <td>0.993645</td>\n",
       "      <td>1.808782</td>\n",
       "      <td>2.388112</td>\n",
       "      <td>3.040866</td>\n",
       "    </tr>\n",
       "    <tr>\n",
       "      <td>...</td>\n",
       "      <td>...</td>\n",
       "      <td>...</td>\n",
       "      <td>...</td>\n",
       "      <td>...</td>\n",
       "      <td>...</td>\n",
       "      <td>...</td>\n",
       "    </tr>\n",
       "    <tr>\n",
       "      <td>9613</td>\n",
       "      <td>0.160383</td>\n",
       "      <td>-0.389268</td>\n",
       "      <td>-0.943550</td>\n",
       "      <td>0.280844</td>\n",
       "      <td>0.675781</td>\n",
       "      <td>0.381901</td>\n",
       "    </tr>\n",
       "    <tr>\n",
       "      <td>9614</td>\n",
       "      <td>0.082234</td>\n",
       "      <td>-0.550123</td>\n",
       "      <td>-0.711412</td>\n",
       "      <td>0.329111</td>\n",
       "      <td>0.815785</td>\n",
       "      <td>0.368613</td>\n",
       "    </tr>\n",
       "    <tr>\n",
       "      <td>9615</td>\n",
       "      <td>0.043151</td>\n",
       "      <td>-0.661729</td>\n",
       "      <td>-0.540452</td>\n",
       "      <td>0.496787</td>\n",
       "      <td>0.893927</td>\n",
       "      <td>0.374692</td>\n",
       "    </tr>\n",
       "    <tr>\n",
       "      <td>9616</td>\n",
       "      <td>0.063099</td>\n",
       "      <td>-0.494127</td>\n",
       "      <td>-0.450692</td>\n",
       "      <td>0.593886</td>\n",
       "      <td>0.990191</td>\n",
       "      <td>0.350036</td>\n",
       "    </tr>\n",
       "    <tr>\n",
       "      <td>9617</td>\n",
       "      <td>0.232052</td>\n",
       "      <td>-0.907352</td>\n",
       "      <td>-0.492121</td>\n",
       "      <td>0.680330</td>\n",
       "      <td>0.494500</td>\n",
       "      <td>0.224645</td>\n",
       "    </tr>\n",
       "  </tbody>\n",
       "</table>\n",
       "<p>9618 rows × 6 columns</p>\n",
       "</div>"
      ],
      "text/plain": [
       "            s1        s2        s3        s4        s5        s6\n",
       "0     1.686270 -0.794102  1.148352  1.158114  2.024443  1.038107\n",
       "1     1.749894 -0.742321  1.016314  1.281761  2.149033  0.601557\n",
       "2     1.475208 -0.749156  0.936533  1.386429  2.176159  3.646527\n",
       "3     1.622190 -0.724582  0.938976  1.502116  2.345862  3.182967\n",
       "4     1.750866 -0.858571  0.993645  1.808782  2.388112  3.040866\n",
       "...        ...       ...       ...       ...       ...       ...\n",
       "9613  0.160383 -0.389268 -0.943550  0.280844  0.675781  0.381901\n",
       "9614  0.082234 -0.550123 -0.711412  0.329111  0.815785  0.368613\n",
       "9615  0.043151 -0.661729 -0.540452  0.496787  0.893927  0.374692\n",
       "9616  0.063099 -0.494127 -0.450692  0.593886  0.990191  0.350036\n",
       "9617  0.232052 -0.907352 -0.492121  0.680330  0.494500  0.224645\n",
       "\n",
       "[9618 rows x 6 columns]"
      ]
     },
     "execution_count": 41,
     "metadata": {},
     "output_type": "execute_result"
    }
   ],
   "source": [
    "df.drop('dates',axis = 1)"
   ]
  },
  {
   "cell_type": "code",
   "execution_count": 43,
   "metadata": {},
   "outputs": [],
   "source": [
    "fake = df.copy()"
   ]
  },
  {
   "cell_type": "code",
   "execution_count": 45,
   "metadata": {
    "collapsed": true
   },
   "outputs": [
    {
     "data": {
      "text/html": [
       "<div>\n",
       "<style scoped>\n",
       "    .dataframe tbody tr th:only-of-type {\n",
       "        vertical-align: middle;\n",
       "    }\n",
       "\n",
       "    .dataframe tbody tr th {\n",
       "        vertical-align: top;\n",
       "    }\n",
       "\n",
       "    .dataframe thead th {\n",
       "        text-align: right;\n",
       "    }\n",
       "</style>\n",
       "<table border=\"1\" class=\"dataframe\">\n",
       "  <thead>\n",
       "    <tr style=\"text-align: right;\">\n",
       "      <th></th>\n",
       "      <th>s1</th>\n",
       "      <th>s2</th>\n",
       "      <th>s3</th>\n",
       "      <th>s4</th>\n",
       "      <th>s5</th>\n",
       "      <th>s6</th>\n",
       "    </tr>\n",
       "  </thead>\n",
       "  <tbody>\n",
       "    <tr>\n",
       "      <td>0</td>\n",
       "      <td>1.686270</td>\n",
       "      <td>-0.794102</td>\n",
       "      <td>1.148352</td>\n",
       "      <td>1.158114</td>\n",
       "      <td>2.024443</td>\n",
       "      <td>1.038107</td>\n",
       "    </tr>\n",
       "    <tr>\n",
       "      <td>1</td>\n",
       "      <td>1.749894</td>\n",
       "      <td>-0.742321</td>\n",
       "      <td>1.016314</td>\n",
       "      <td>1.281761</td>\n",
       "      <td>2.149033</td>\n",
       "      <td>0.601557</td>\n",
       "    </tr>\n",
       "    <tr>\n",
       "      <td>2</td>\n",
       "      <td>1.475208</td>\n",
       "      <td>-0.749156</td>\n",
       "      <td>0.936533</td>\n",
       "      <td>1.386429</td>\n",
       "      <td>2.176159</td>\n",
       "      <td>3.646527</td>\n",
       "    </tr>\n",
       "    <tr>\n",
       "      <td>3</td>\n",
       "      <td>1.622190</td>\n",
       "      <td>-0.724582</td>\n",
       "      <td>0.938976</td>\n",
       "      <td>1.502116</td>\n",
       "      <td>2.345862</td>\n",
       "      <td>3.182967</td>\n",
       "    </tr>\n",
       "    <tr>\n",
       "      <td>4</td>\n",
       "      <td>1.750866</td>\n",
       "      <td>-0.858571</td>\n",
       "      <td>0.993645</td>\n",
       "      <td>1.808782</td>\n",
       "      <td>2.388112</td>\n",
       "      <td>3.040866</td>\n",
       "    </tr>\n",
       "    <tr>\n",
       "      <td>...</td>\n",
       "      <td>...</td>\n",
       "      <td>...</td>\n",
       "      <td>...</td>\n",
       "      <td>...</td>\n",
       "      <td>...</td>\n",
       "      <td>...</td>\n",
       "    </tr>\n",
       "    <tr>\n",
       "      <td>9613</td>\n",
       "      <td>0.160383</td>\n",
       "      <td>-0.389268</td>\n",
       "      <td>-0.943550</td>\n",
       "      <td>0.280844</td>\n",
       "      <td>0.675781</td>\n",
       "      <td>0.381901</td>\n",
       "    </tr>\n",
       "    <tr>\n",
       "      <td>9614</td>\n",
       "      <td>0.082234</td>\n",
       "      <td>-0.550123</td>\n",
       "      <td>-0.711412</td>\n",
       "      <td>0.329111</td>\n",
       "      <td>0.815785</td>\n",
       "      <td>0.368613</td>\n",
       "    </tr>\n",
       "    <tr>\n",
       "      <td>9615</td>\n",
       "      <td>0.043151</td>\n",
       "      <td>-0.661729</td>\n",
       "      <td>-0.540452</td>\n",
       "      <td>0.496787</td>\n",
       "      <td>0.893927</td>\n",
       "      <td>0.374692</td>\n",
       "    </tr>\n",
       "    <tr>\n",
       "      <td>9616</td>\n",
       "      <td>0.063099</td>\n",
       "      <td>-0.494127</td>\n",
       "      <td>-0.450692</td>\n",
       "      <td>0.593886</td>\n",
       "      <td>0.990191</td>\n",
       "      <td>0.350036</td>\n",
       "    </tr>\n",
       "    <tr>\n",
       "      <td>9617</td>\n",
       "      <td>0.232052</td>\n",
       "      <td>-0.907352</td>\n",
       "      <td>-0.492121</td>\n",
       "      <td>0.680330</td>\n",
       "      <td>0.494500</td>\n",
       "      <td>0.224645</td>\n",
       "    </tr>\n",
       "  </tbody>\n",
       "</table>\n",
       "<p>9618 rows × 6 columns</p>\n",
       "</div>"
      ],
      "text/plain": [
       "            s1        s2        s3        s4        s5        s6\n",
       "0     1.686270 -0.794102  1.148352  1.158114  2.024443  1.038107\n",
       "1     1.749894 -0.742321  1.016314  1.281761  2.149033  0.601557\n",
       "2     1.475208 -0.749156  0.936533  1.386429  2.176159  3.646527\n",
       "3     1.622190 -0.724582  0.938976  1.502116  2.345862  3.182967\n",
       "4     1.750866 -0.858571  0.993645  1.808782  2.388112  3.040866\n",
       "...        ...       ...       ...       ...       ...       ...\n",
       "9613  0.160383 -0.389268 -0.943550  0.280844  0.675781  0.381901\n",
       "9614  0.082234 -0.550123 -0.711412  0.329111  0.815785  0.368613\n",
       "9615  0.043151 -0.661729 -0.540452  0.496787  0.893927  0.374692\n",
       "9616  0.063099 -0.494127 -0.450692  0.593886  0.990191  0.350036\n",
       "9617  0.232052 -0.907352 -0.492121  0.680330  0.494500  0.224645\n",
       "\n",
       "[9618 rows x 6 columns]"
      ]
     },
     "execution_count": 45,
     "metadata": {},
     "output_type": "execute_result"
    }
   ],
   "source": [
    "fake.drop('dates', axis = 1)"
   ]
  },
  {
   "cell_type": "code",
   "execution_count": 77,
   "metadata": {},
   "outputs": [
    {
     "data": {
      "text/plain": [
       "[-0.4644891767067299,\n",
       " -0.4718042819881939,\n",
       " -0.4796399419036477,\n",
       " -0.4889276532692299,\n",
       " -0.4982701290558309,\n",
       " -0.507612604842432,\n",
       " -0.5164893740258651,\n",
       " -0.5245715156408053,\n",
       " -0.5317496680648206,\n",
       " -0.5382153813567727,\n",
       " -0.544790790873669,\n",
       " -0.5499140651673333,\n",
       " -0.5545716326945296,\n",
       " -0.5598045196033351,\n",
       " -0.5652017830583994,\n",
       " -0.5707908475650347,\n",
       " -0.5785443190440587,\n",
       " -0.5861059896348121,\n",
       " -0.5931471054282754,\n",
       " -0.595722454582813,\n",
       " -0.5986539813351804,\n",
       " -0.6019690262542859,\n",
       " -0.6057772020369206,\n",
       " -0.6094210007833955,\n",
       " -0.6116401723401034,\n",
       " -0.613064883384624]"
      ]
     },
     "execution_count": 77,
     "metadata": {},
     "output_type": "execute_result"
    }
   ],
   "source": [
    "[df['s1'][x:x+365].mean() for x in range(26)]"
   ]
  },
  {
   "cell_type": "code",
   "execution_count": 88,
   "metadata": {},
   "outputs": [
    {
     "data": {
      "text/html": [
       "<div>\n",
       "<style scoped>\n",
       "    .dataframe tbody tr th:only-of-type {\n",
       "        vertical-align: middle;\n",
       "    }\n",
       "\n",
       "    .dataframe tbody tr th {\n",
       "        vertical-align: top;\n",
       "    }\n",
       "\n",
       "    .dataframe thead th {\n",
       "        text-align: right;\n",
       "    }\n",
       "</style>\n",
       "<table border=\"1\" class=\"dataframe\">\n",
       "  <thead>\n",
       "    <tr style=\"text-align: right;\">\n",
       "      <th></th>\n",
       "      <th>s1</th>\n",
       "      <th>s2</th>\n",
       "      <th>s3</th>\n",
       "      <th>s4</th>\n",
       "      <th>s5</th>\n",
       "      <th>s6</th>\n",
       "    </tr>\n",
       "  </thead>\n",
       "  <tbody>\n",
       "    <tr>\n",
       "      <td>0</td>\n",
       "      <td>0.306195</td>\n",
       "      <td>-0.193707</td>\n",
       "      <td>0.849467</td>\n",
       "      <td>1.055060</td>\n",
       "      <td>0.700344</td>\n",
       "      <td>0.963871</td>\n",
       "    </tr>\n",
       "    <tr>\n",
       "      <td>1</td>\n",
       "      <td>0.925510</td>\n",
       "      <td>0.604346</td>\n",
       "      <td>1.070837</td>\n",
       "      <td>0.422212</td>\n",
       "      <td>0.459057</td>\n",
       "      <td>2.175679</td>\n",
       "    </tr>\n",
       "    <tr>\n",
       "      <td>2</td>\n",
       "      <td>0.975400</td>\n",
       "      <td>0.732675</td>\n",
       "      <td>1.288179</td>\n",
       "      <td>0.177583</td>\n",
       "      <td>0.672838</td>\n",
       "      <td>0.849735</td>\n",
       "    </tr>\n",
       "    <tr>\n",
       "      <td>3</td>\n",
       "      <td>1.409455</td>\n",
       "      <td>0.499116</td>\n",
       "      <td>-0.081492</td>\n",
       "      <td>0.489991</td>\n",
       "      <td>0.793989</td>\n",
       "      <td>-0.619882</td>\n",
       "    </tr>\n",
       "    <tr>\n",
       "      <td>4</td>\n",
       "      <td>0.917619</td>\n",
       "      <td>0.544429</td>\n",
       "      <td>0.063905</td>\n",
       "      <td>0.814786</td>\n",
       "      <td>0.668126</td>\n",
       "      <td>-0.260731</td>\n",
       "    </tr>\n",
       "    <tr>\n",
       "      <td>5</td>\n",
       "      <td>0.651784</td>\n",
       "      <td>0.284047</td>\n",
       "      <td>0.509139</td>\n",
       "      <td>0.727471</td>\n",
       "      <td>0.616510</td>\n",
       "      <td>0.457816</td>\n",
       "    </tr>\n",
       "    <tr>\n",
       "      <td>6</td>\n",
       "      <td>0.286470</td>\n",
       "      <td>0.347251</td>\n",
       "      <td>1.105548</td>\n",
       "      <td>0.626129</td>\n",
       "      <td>0.517688</td>\n",
       "      <td>1.401706</td>\n",
       "    </tr>\n",
       "    <tr>\n",
       "      <td>7</td>\n",
       "      <td>0.435701</td>\n",
       "      <td>0.995799</td>\n",
       "      <td>0.863960</td>\n",
       "      <td>0.633169</td>\n",
       "      <td>0.430921</td>\n",
       "      <td>0.236968</td>\n",
       "    </tr>\n",
       "    <tr>\n",
       "      <td>8</td>\n",
       "      <td>0.585647</td>\n",
       "      <td>0.956237</td>\n",
       "      <td>-0.017492</td>\n",
       "      <td>0.354678</td>\n",
       "      <td>0.111552</td>\n",
       "      <td>-0.430759</td>\n",
       "    </tr>\n",
       "    <tr>\n",
       "      <td>9</td>\n",
       "      <td>0.665592</td>\n",
       "      <td>1.479855</td>\n",
       "      <td>0.051439</td>\n",
       "      <td>0.258267</td>\n",
       "      <td>0.709385</td>\n",
       "      <td>-0.529197</td>\n",
       "    </tr>\n",
       "    <tr>\n",
       "      <td>10</td>\n",
       "      <td>-0.133832</td>\n",
       "      <td>1.007115</td>\n",
       "      <td>-0.011794</td>\n",
       "      <td>0.197581</td>\n",
       "      <td>0.144866</td>\n",
       "      <td>-0.256102</td>\n",
       "    </tr>\n",
       "    <tr>\n",
       "      <td>11</td>\n",
       "      <td>-0.012791</td>\n",
       "      <td>1.751389</td>\n",
       "      <td>-0.110095</td>\n",
       "      <td>0.671554</td>\n",
       "      <td>0.217031</td>\n",
       "      <td>-0.583663</td>\n",
       "    </tr>\n",
       "    <tr>\n",
       "      <td>12</td>\n",
       "      <td>1.124305</td>\n",
       "      <td>2.476292</td>\n",
       "      <td>0.889549</td>\n",
       "      <td>0.429006</td>\n",
       "      <td>0.330319</td>\n",
       "      <td>-0.048074</td>\n",
       "    </tr>\n",
       "    <tr>\n",
       "      <td>13</td>\n",
       "      <td>0.923839</td>\n",
       "      <td>1.015526</td>\n",
       "      <td>0.296535</td>\n",
       "      <td>0.752512</td>\n",
       "      <td>1.013195</td>\n",
       "      <td>-0.071006</td>\n",
       "    </tr>\n",
       "    <tr>\n",
       "      <td>14</td>\n",
       "      <td>0.218551</td>\n",
       "      <td>-0.120694</td>\n",
       "      <td>0.668206</td>\n",
       "      <td>0.503691</td>\n",
       "      <td>0.525715</td>\n",
       "      <td>1.014994</td>\n",
       "    </tr>\n",
       "    <tr>\n",
       "      <td>15</td>\n",
       "      <td>0.365456</td>\n",
       "      <td>-0.495378</td>\n",
       "      <td>0.474618</td>\n",
       "      <td>0.454294</td>\n",
       "      <td>0.893634</td>\n",
       "      <td>0.607570</td>\n",
       "    </tr>\n",
       "    <tr>\n",
       "      <td>16</td>\n",
       "      <td>0.508085</td>\n",
       "      <td>0.890704</td>\n",
       "      <td>0.986014</td>\n",
       "      <td>1.198403</td>\n",
       "      <td>1.228097</td>\n",
       "      <td>1.444693</td>\n",
       "    </tr>\n",
       "    <tr>\n",
       "      <td>17</td>\n",
       "      <td>1.182168</td>\n",
       "      <td>1.061991</td>\n",
       "      <td>1.499494</td>\n",
       "      <td>1.210020</td>\n",
       "      <td>1.259166</td>\n",
       "      <td>1.516858</td>\n",
       "    </tr>\n",
       "    <tr>\n",
       "      <td>18</td>\n",
       "      <td>1.714633</td>\n",
       "      <td>1.540073</td>\n",
       "      <td>1.716563</td>\n",
       "      <td>1.002347</td>\n",
       "      <td>0.986645</td>\n",
       "      <td>1.443378</td>\n",
       "    </tr>\n",
       "    <tr>\n",
       "      <td>19</td>\n",
       "      <td>1.067126</td>\n",
       "      <td>0.581581</td>\n",
       "      <td>0.809768</td>\n",
       "      <td>0.949910</td>\n",
       "      <td>1.311987</td>\n",
       "      <td>1.327981</td>\n",
       "    </tr>\n",
       "    <tr>\n",
       "      <td>20</td>\n",
       "      <td>1.426908</td>\n",
       "      <td>0.862266</td>\n",
       "      <td>1.014344</td>\n",
       "      <td>0.877307</td>\n",
       "      <td>0.811550</td>\n",
       "      <td>0.813241</td>\n",
       "    </tr>\n",
       "    <tr>\n",
       "      <td>21</td>\n",
       "      <td>1.095839</td>\n",
       "      <td>0.806019</td>\n",
       "      <td>0.286261</td>\n",
       "      <td>0.991306</td>\n",
       "      <td>0.696071</td>\n",
       "      <td>0.772420</td>\n",
       "    </tr>\n",
       "    <tr>\n",
       "      <td>22</td>\n",
       "      <td>0.594250</td>\n",
       "      <td>0.095608</td>\n",
       "      <td>1.511057</td>\n",
       "      <td>1.461882</td>\n",
       "      <td>0.748288</td>\n",
       "      <td>0.985022</td>\n",
       "    </tr>\n",
       "    <tr>\n",
       "      <td>23</td>\n",
       "      <td>0.475838</td>\n",
       "      <td>0.386073</td>\n",
       "      <td>1.281357</td>\n",
       "      <td>1.352923</td>\n",
       "      <td>0.993386</td>\n",
       "      <td>2.352310</td>\n",
       "    </tr>\n",
       "    <tr>\n",
       "      <td>24</td>\n",
       "      <td>1.330578</td>\n",
       "      <td>1.453854</td>\n",
       "      <td>1.992180</td>\n",
       "      <td>1.341033</td>\n",
       "      <td>1.990535</td>\n",
       "      <td>2.558994</td>\n",
       "    </tr>\n",
       "    <tr>\n",
       "      <td>25</td>\n",
       "      <td>1.231044</td>\n",
       "      <td>0.315416</td>\n",
       "      <td>1.053933</td>\n",
       "      <td>1.179717</td>\n",
       "      <td>1.361248</td>\n",
       "      <td>1.408748</td>\n",
       "    </tr>\n",
       "    <tr>\n",
       "      <td>26</td>\n",
       "      <td>0.104599</td>\n",
       "      <td>1.226652</td>\n",
       "      <td>0.703116</td>\n",
       "      <td>0.499659</td>\n",
       "      <td>0.330527</td>\n",
       "      <td>2.211331</td>\n",
       "    </tr>\n",
       "  </tbody>\n",
       "</table>\n",
       "</div>"
      ],
      "text/plain": [
       "          s1        s2        s3        s4        s5        s6\n",
       "0   0.306195 -0.193707  0.849467  1.055060  0.700344  0.963871\n",
       "1   0.925510  0.604346  1.070837  0.422212  0.459057  2.175679\n",
       "2   0.975400  0.732675  1.288179  0.177583  0.672838  0.849735\n",
       "3   1.409455  0.499116 -0.081492  0.489991  0.793989 -0.619882\n",
       "4   0.917619  0.544429  0.063905  0.814786  0.668126 -0.260731\n",
       "5   0.651784  0.284047  0.509139  0.727471  0.616510  0.457816\n",
       "6   0.286470  0.347251  1.105548  0.626129  0.517688  1.401706\n",
       "7   0.435701  0.995799  0.863960  0.633169  0.430921  0.236968\n",
       "8   0.585647  0.956237 -0.017492  0.354678  0.111552 -0.430759\n",
       "9   0.665592  1.479855  0.051439  0.258267  0.709385 -0.529197\n",
       "10 -0.133832  1.007115 -0.011794  0.197581  0.144866 -0.256102\n",
       "11 -0.012791  1.751389 -0.110095  0.671554  0.217031 -0.583663\n",
       "12  1.124305  2.476292  0.889549  0.429006  0.330319 -0.048074\n",
       "13  0.923839  1.015526  0.296535  0.752512  1.013195 -0.071006\n",
       "14  0.218551 -0.120694  0.668206  0.503691  0.525715  1.014994\n",
       "15  0.365456 -0.495378  0.474618  0.454294  0.893634  0.607570\n",
       "16  0.508085  0.890704  0.986014  1.198403  1.228097  1.444693\n",
       "17  1.182168  1.061991  1.499494  1.210020  1.259166  1.516858\n",
       "18  1.714633  1.540073  1.716563  1.002347  0.986645  1.443378\n",
       "19  1.067126  0.581581  0.809768  0.949910  1.311987  1.327981\n",
       "20  1.426908  0.862266  1.014344  0.877307  0.811550  0.813241\n",
       "21  1.095839  0.806019  0.286261  0.991306  0.696071  0.772420\n",
       "22  0.594250  0.095608  1.511057  1.461882  0.748288  0.985022\n",
       "23  0.475838  0.386073  1.281357  1.352923  0.993386  2.352310\n",
       "24  1.330578  1.453854  1.992180  1.341033  1.990535  2.558994\n",
       "25  1.231044  0.315416  1.053933  1.179717  1.361248  1.408748\n",
       "26  0.104599  1.226652  0.703116  0.499659  0.330527  2.211331"
      ]
     },
     "execution_count": 88,
     "metadata": {},
     "output_type": "execute_result"
    }
   ],
   "source": [
    "fake = df.groupby(np.arange(len(df))//365).mean()+np.random.randn()\n",
    "fake"
   ]
  },
  {
   "cell_type": "code",
   "execution_count": 103,
   "metadata": {},
   "outputs": [
    {
     "data": {
      "text/plain": [
       "(9618, 7)"
      ]
     },
     "execution_count": 103,
     "metadata": {},
     "output_type": "execute_result"
    }
   ],
   "source": [
    "df.shape"
   ]
  },
  {
   "cell_type": "code",
   "execution_count": 324,
   "metadata": {},
   "outputs": [],
   "source": [
    "train, val = df.iloc[:-365*9], df.iloc[-365*9:]"
   ]
  },
  {
   "cell_type": "code",
   "execution_count": 328,
   "metadata": {},
   "outputs": [
    {
     "data": {
      "text/plain": [
       "array([[ 1.68626988, -0.79410237,  1.14835179,  1.15811443,  2.02444267,\n",
       "         1.0381074 ],\n",
       "       [ 1.74989355, -0.74232101,  1.01631439,  1.28176129,  2.14903259,\n",
       "         0.60155696],\n",
       "       [ 1.47520769, -0.74915612,  0.93653315,  1.38642919,  2.17615891,\n",
       "         3.64652681],\n",
       "       ...,\n",
       "       [ 0.42315573, -1.06172311, -0.07045104,  0.89681137,  0.78394133,\n",
       "        -1.26532221],\n",
       "       [ 0.36308706, -1.04414535, -0.03067846,  0.85386479,  0.69017273,\n",
       "        -1.04995787],\n",
       "       [ 0.24206129, -0.96734971, -0.52211976,  0.88034183,  0.31450769,\n",
       "        -0.82534248]])"
      ]
     },
     "execution_count": 328,
     "metadata": {},
     "output_type": "execute_result"
    }
   ],
   "source": [
    "train.iloc[:, 1:].to_numpy()"
   ]
  },
  {
   "cell_type": "markdown",
   "metadata": {},
   "source": [
    "# AD DISTANCE"
   ]
  },
  {
   "cell_type": "code",
   "execution_count": 303,
   "metadata": {},
   "outputs": [],
   "source": [
    "def AD_distance(real, fake):\n",
    "    \"\"\"\n",
    "    real: np.array(6, n_test)\n",
    "    fake: np.array(6, n_test)\n",
    "    \"\"\"\n",
    "    \n",
    "    s_max = real.shape[0]\n",
    "    n_test = real.shape[1]\n",
    "    real = np.sort(real, axis = 1)\n",
    "    fake = np.sort(fake, axis = 1)\n",
    "    \n",
    "    u = np.zeros((s_max, n_test))\n",
    "    \n",
    "    for s in range(s_max):\n",
    "        for i in range(n_test):\n",
    "            u_i = 0.0\n",
    "            for j in range(n_test):\n",
    "                if real[s, j] <= fake[s, i]:\n",
    "                    u_i = u_i + 1\n",
    "                else:\n",
    "                    u_i = u_i + 0\n",
    "            u[s, i] = (1.0 / (n_test + 2.0)) * (u_i + 1)\n",
    "    \n",
    "    W = np.zeros(s_max)\n",
    "    for s in range(s_max):\n",
    "        W[s] = -n_test\n",
    "        for i in range(1, n_test+1):\n",
    "            w = (2 * i - 1) * (np.log(u[s, i-1]) + np.log(1 - u[s, n_test-i]))\n",
    "    \n",
    "            W[s] += -(1.0/n_test)* w\n",
    "        \n",
    "    return W"
   ]
  },
  {
   "cell_type": "code",
   "execution_count": 320,
   "metadata": {},
   "outputs": [
    {
     "data": {
      "text/plain": [
       "array([ 333.04917291,  223.82068815,  535.22414409,  289.20933029,\n",
       "        419.75515909, 1086.88284686])"
      ]
     },
     "execution_count": 320,
     "metadata": {},
     "output_type": "execute_result"
    }
   ],
   "source": [
    "AD_distance(val_np, fake_np)"
   ]
  },
  {
   "cell_type": "code",
   "execution_count": 315,
   "metadata": {},
   "outputs": [],
   "source": [
    "val_np = val.to_numpy()[:,1:].transpose()\n",
    "fake_np = train.to_numpy()[:,1:].transpose().mean(1, keepdims=True) + np.random.randn(*val_np.shape)"
   ]
  },
  {
   "cell_type": "code",
   "execution_count": null,
   "metadata": {},
   "outputs": [],
   "source": []
  },
  {
   "cell_type": "code",
   "execution_count": null,
   "metadata": {},
   "outputs": [],
   "source": []
  },
  {
   "cell_type": "code",
   "execution_count": null,
   "metadata": {},
   "outputs": [],
   "source": []
  },
  {
   "cell_type": "code",
   "execution_count": 310,
   "metadata": {},
   "outputs": [
    {
     "data": {
      "text/plain": [
       "(6333, 7)"
      ]
     },
     "execution_count": 310,
     "metadata": {},
     "output_type": "execute_result"
    }
   ],
   "source": [
    "train.shape"
   ]
  },
  {
   "cell_type": "code",
   "execution_count": 231,
   "metadata": {},
   "outputs": [],
   "source": [
    "real = val['s1'].to_numpy()"
   ]
  },
  {
   "cell_type": "code",
   "execution_count": 232,
   "metadata": {},
   "outputs": [],
   "source": [
    "fake = train['s1'].mean() + np.random.randn(real.shape[0])"
   ]
  },
  {
   "cell_type": "code",
   "execution_count": 298,
   "metadata": {},
   "outputs": [],
   "source": [
    "s_max = val.shape[1] - 1\n",
    "n_test = val.shape[0]\n",
    "\n",
    "u = np.zeros((s_max, n_test))"
   ]
  },
  {
   "cell_type": "code",
   "execution_count": 245,
   "metadata": {},
   "outputs": [],
   "source": [
    "real = np.sort(real)\n",
    "fake = np.sort(fake)\n",
    "\n",
    "for i in range(n_test):\n",
    "    u_i = 0.0\n",
    "    for j in range(n_test):\n",
    "        if real[j] <= fake[i]:\n",
    "            u_i = u_i + 1\n",
    "        else:\n",
    "            u_i = u_i + 0\n",
    "    u[0, i] = (1.0 / (n_test + 2.0)) * (u_i + 1)"
   ]
  },
  {
   "cell_type": "code",
   "execution_count": 283,
   "metadata": {},
   "outputs": [],
   "source": [
    "W = np.zeros(s)"
   ]
  },
  {
   "cell_type": "code",
   "execution_count": 291,
   "metadata": {},
   "outputs": [
    {
     "name": "stderr",
     "output_type": "stream",
     "text": [
      "/home/akeller/anaconda3/lib/python3.7/site-packages/ipykernel_launcher.py:1: RuntimeWarning: divide by zero encountered in log\n",
      "  \"\"\"Entry point for launching an IPython kernel.\n"
     ]
    }
   ],
   "source": [
    "W = - n_test - (1.0/n_test) * ((2 * np.arange(1, n_test+1) - 1) * (np.log(u) + np.log(1 - u[:, ::-1]))).sum(1)"
   ]
  },
  {
   "cell_type": "code",
   "execution_count": 292,
   "metadata": {},
   "outputs": [
    {
     "data": {
      "text/plain": [
       "315.300297603786"
      ]
     },
     "execution_count": 292,
     "metadata": {},
     "output_type": "execute_result"
    }
   ],
   "source": [
    "W[0]"
   ]
  },
  {
   "cell_type": "code",
   "execution_count": 293,
   "metadata": {},
   "outputs": [],
   "source": [
    "W = np.zeros(s)"
   ]
  },
  {
   "cell_type": "code",
   "execution_count": 296,
   "metadata": {},
   "outputs": [],
   "source": [
    "W[0] = -n_test \n",
    "for i in range(1, n_test+1):\n",
    "    w = (2 * i - 1) * (np.log(u[0, i-1]) + np.log(1 - u[0, n_test-i]))\n",
    "    \n",
    "    W[0] += -(1.0/n_test)* w"
   ]
  },
  {
   "cell_type": "code",
   "execution_count": 297,
   "metadata": {},
   "outputs": [
    {
     "data": {
      "text/plain": [
       "315.30029760378534"
      ]
     },
     "execution_count": 297,
     "metadata": {},
     "output_type": "execute_result"
    }
   ],
   "source": [
    "W[0]"
   ]
  },
  {
   "cell_type": "code",
   "execution_count": 133,
   "metadata": {
    "scrolled": true
   },
   "outputs": [
    {
     "data": {
      "text/html": [
       "<div>\n",
       "<style scoped>\n",
       "    .dataframe tbody tr th:only-of-type {\n",
       "        vertical-align: middle;\n",
       "    }\n",
       "\n",
       "    .dataframe tbody tr th {\n",
       "        vertical-align: top;\n",
       "    }\n",
       "\n",
       "    .dataframe thead th {\n",
       "        text-align: right;\n",
       "    }\n",
       "</style>\n",
       "<table border=\"1\" class=\"dataframe\">\n",
       "  <thead>\n",
       "    <tr style=\"text-align: right;\">\n",
       "      <th></th>\n",
       "      <th>s1</th>\n",
       "      <th>s2</th>\n",
       "      <th>s3</th>\n",
       "      <th>s4</th>\n",
       "      <th>s5</th>\n",
       "      <th>s6</th>\n",
       "    </tr>\n",
       "  </thead>\n",
       "  <tbody>\n",
       "    <tr>\n",
       "      <td>0</td>\n",
       "      <td>-0.464489</td>\n",
       "      <td>-0.964391</td>\n",
       "      <td>0.078783</td>\n",
       "      <td>0.284376</td>\n",
       "      <td>-0.070340</td>\n",
       "      <td>0.193187</td>\n",
       "    </tr>\n",
       "    <tr>\n",
       "      <td>1</td>\n",
       "      <td>0.154826</td>\n",
       "      <td>-0.166338</td>\n",
       "      <td>0.300153</td>\n",
       "      <td>-0.348472</td>\n",
       "      <td>-0.311628</td>\n",
       "      <td>1.404995</td>\n",
       "    </tr>\n",
       "    <tr>\n",
       "      <td>2</td>\n",
       "      <td>0.204716</td>\n",
       "      <td>-0.038009</td>\n",
       "      <td>0.517495</td>\n",
       "      <td>-0.593102</td>\n",
       "      <td>-0.097846</td>\n",
       "      <td>0.079051</td>\n",
       "    </tr>\n",
       "    <tr>\n",
       "      <td>3</td>\n",
       "      <td>0.638771</td>\n",
       "      <td>-0.271568</td>\n",
       "      <td>-0.852176</td>\n",
       "      <td>-0.280693</td>\n",
       "      <td>0.023305</td>\n",
       "      <td>-1.390566</td>\n",
       "    </tr>\n",
       "    <tr>\n",
       "      <td>4</td>\n",
       "      <td>0.146935</td>\n",
       "      <td>-0.226255</td>\n",
       "      <td>-0.706779</td>\n",
       "      <td>0.044102</td>\n",
       "      <td>-0.102558</td>\n",
       "      <td>-1.031415</td>\n",
       "    </tr>\n",
       "    <tr>\n",
       "      <td>5</td>\n",
       "      <td>-0.118900</td>\n",
       "      <td>-0.486637</td>\n",
       "      <td>-0.261545</td>\n",
       "      <td>-0.043213</td>\n",
       "      <td>-0.154174</td>\n",
       "      <td>-0.312868</td>\n",
       "    </tr>\n",
       "    <tr>\n",
       "      <td>6</td>\n",
       "      <td>-0.484214</td>\n",
       "      <td>-0.423433</td>\n",
       "      <td>0.334864</td>\n",
       "      <td>-0.144555</td>\n",
       "      <td>-0.252996</td>\n",
       "      <td>0.631022</td>\n",
       "    </tr>\n",
       "    <tr>\n",
       "      <td>7</td>\n",
       "      <td>-0.334983</td>\n",
       "      <td>0.225115</td>\n",
       "      <td>0.093276</td>\n",
       "      <td>-0.137515</td>\n",
       "      <td>-0.339763</td>\n",
       "      <td>-0.533716</td>\n",
       "    </tr>\n",
       "    <tr>\n",
       "      <td>8</td>\n",
       "      <td>-0.185037</td>\n",
       "      <td>0.185553</td>\n",
       "      <td>-0.788176</td>\n",
       "      <td>-0.416007</td>\n",
       "      <td>-0.659132</td>\n",
       "      <td>-1.201443</td>\n",
       "    </tr>\n",
       "    <tr>\n",
       "      <td>9</td>\n",
       "      <td>-0.105092</td>\n",
       "      <td>0.709171</td>\n",
       "      <td>-0.719245</td>\n",
       "      <td>-0.512417</td>\n",
       "      <td>-0.061299</td>\n",
       "      <td>-1.299881</td>\n",
       "    </tr>\n",
       "    <tr>\n",
       "      <td>10</td>\n",
       "      <td>-0.904516</td>\n",
       "      <td>0.236431</td>\n",
       "      <td>-0.782478</td>\n",
       "      <td>-0.573103</td>\n",
       "      <td>-0.625818</td>\n",
       "      <td>-1.026786</td>\n",
       "    </tr>\n",
       "    <tr>\n",
       "      <td>11</td>\n",
       "      <td>-0.783475</td>\n",
       "      <td>0.980705</td>\n",
       "      <td>-0.880779</td>\n",
       "      <td>-0.099130</td>\n",
       "      <td>-0.553653</td>\n",
       "      <td>-1.354347</td>\n",
       "    </tr>\n",
       "    <tr>\n",
       "      <td>12</td>\n",
       "      <td>0.353621</td>\n",
       "      <td>1.705608</td>\n",
       "      <td>0.118865</td>\n",
       "      <td>-0.341678</td>\n",
       "      <td>-0.440365</td>\n",
       "      <td>-0.818758</td>\n",
       "    </tr>\n",
       "    <tr>\n",
       "      <td>13</td>\n",
       "      <td>0.153155</td>\n",
       "      <td>0.244842</td>\n",
       "      <td>-0.474149</td>\n",
       "      <td>-0.018172</td>\n",
       "      <td>0.242510</td>\n",
       "      <td>-0.841690</td>\n",
       "    </tr>\n",
       "    <tr>\n",
       "      <td>14</td>\n",
       "      <td>-0.552133</td>\n",
       "      <td>-0.891378</td>\n",
       "      <td>-0.102478</td>\n",
       "      <td>-0.266993</td>\n",
       "      <td>-0.244969</td>\n",
       "      <td>0.244310</td>\n",
       "    </tr>\n",
       "    <tr>\n",
       "      <td>15</td>\n",
       "      <td>-0.405228</td>\n",
       "      <td>-1.266062</td>\n",
       "      <td>-0.296066</td>\n",
       "      <td>-0.316391</td>\n",
       "      <td>0.122950</td>\n",
       "      <td>-0.163114</td>\n",
       "    </tr>\n",
       "    <tr>\n",
       "      <td>16</td>\n",
       "      <td>-0.262599</td>\n",
       "      <td>0.120020</td>\n",
       "      <td>0.215330</td>\n",
       "      <td>0.427719</td>\n",
       "      <td>0.457413</td>\n",
       "      <td>0.674009</td>\n",
       "    </tr>\n",
       "    <tr>\n",
       "      <td>17</td>\n",
       "      <td>0.411483</td>\n",
       "      <td>0.291307</td>\n",
       "      <td>0.728810</td>\n",
       "      <td>0.439335</td>\n",
       "      <td>0.488482</td>\n",
       "      <td>0.746174</td>\n",
       "    </tr>\n",
       "    <tr>\n",
       "      <td>18</td>\n",
       "      <td>0.943949</td>\n",
       "      <td>0.769389</td>\n",
       "      <td>0.945879</td>\n",
       "      <td>0.231663</td>\n",
       "      <td>0.215961</td>\n",
       "      <td>0.672694</td>\n",
       "    </tr>\n",
       "    <tr>\n",
       "      <td>19</td>\n",
       "      <td>0.296442</td>\n",
       "      <td>-0.189104</td>\n",
       "      <td>0.039084</td>\n",
       "      <td>0.179226</td>\n",
       "      <td>0.541303</td>\n",
       "      <td>0.557297</td>\n",
       "    </tr>\n",
       "    <tr>\n",
       "      <td>20</td>\n",
       "      <td>0.656224</td>\n",
       "      <td>0.091582</td>\n",
       "      <td>0.243660</td>\n",
       "      <td>0.106623</td>\n",
       "      <td>0.040866</td>\n",
       "      <td>0.042557</td>\n",
       "    </tr>\n",
       "    <tr>\n",
       "      <td>21</td>\n",
       "      <td>0.325154</td>\n",
       "      <td>0.035335</td>\n",
       "      <td>-0.484423</td>\n",
       "      <td>0.220622</td>\n",
       "      <td>-0.074613</td>\n",
       "      <td>0.001736</td>\n",
       "    </tr>\n",
       "    <tr>\n",
       "      <td>22</td>\n",
       "      <td>-0.176434</td>\n",
       "      <td>-0.675076</td>\n",
       "      <td>0.740373</td>\n",
       "      <td>0.691198</td>\n",
       "      <td>-0.022396</td>\n",
       "      <td>0.214338</td>\n",
       "    </tr>\n",
       "    <tr>\n",
       "      <td>23</td>\n",
       "      <td>-0.294846</td>\n",
       "      <td>-0.384611</td>\n",
       "      <td>0.510673</td>\n",
       "      <td>0.582239</td>\n",
       "      <td>0.222702</td>\n",
       "      <td>1.581626</td>\n",
       "    </tr>\n",
       "    <tr>\n",
       "      <td>24</td>\n",
       "      <td>0.559894</td>\n",
       "      <td>0.683170</td>\n",
       "      <td>1.221496</td>\n",
       "      <td>0.570349</td>\n",
       "      <td>1.219851</td>\n",
       "      <td>1.788310</td>\n",
       "    </tr>\n",
       "    <tr>\n",
       "      <td>25</td>\n",
       "      <td>0.460360</td>\n",
       "      <td>-0.455268</td>\n",
       "      <td>0.283249</td>\n",
       "      <td>0.409033</td>\n",
       "      <td>0.590564</td>\n",
       "      <td>0.638064</td>\n",
       "    </tr>\n",
       "    <tr>\n",
       "      <td>26</td>\n",
       "      <td>-0.666085</td>\n",
       "      <td>0.455968</td>\n",
       "      <td>-0.067568</td>\n",
       "      <td>-0.271025</td>\n",
       "      <td>-0.440158</td>\n",
       "      <td>1.440647</td>\n",
       "    </tr>\n",
       "  </tbody>\n",
       "</table>\n",
       "</div>"
      ],
      "text/plain": [
       "          s1        s2        s3        s4        s5        s6\n",
       "0  -0.464489 -0.964391  0.078783  0.284376 -0.070340  0.193187\n",
       "1   0.154826 -0.166338  0.300153 -0.348472 -0.311628  1.404995\n",
       "2   0.204716 -0.038009  0.517495 -0.593102 -0.097846  0.079051\n",
       "3   0.638771 -0.271568 -0.852176 -0.280693  0.023305 -1.390566\n",
       "4   0.146935 -0.226255 -0.706779  0.044102 -0.102558 -1.031415\n",
       "5  -0.118900 -0.486637 -0.261545 -0.043213 -0.154174 -0.312868\n",
       "6  -0.484214 -0.423433  0.334864 -0.144555 -0.252996  0.631022\n",
       "7  -0.334983  0.225115  0.093276 -0.137515 -0.339763 -0.533716\n",
       "8  -0.185037  0.185553 -0.788176 -0.416007 -0.659132 -1.201443\n",
       "9  -0.105092  0.709171 -0.719245 -0.512417 -0.061299 -1.299881\n",
       "10 -0.904516  0.236431 -0.782478 -0.573103 -0.625818 -1.026786\n",
       "11 -0.783475  0.980705 -0.880779 -0.099130 -0.553653 -1.354347\n",
       "12  0.353621  1.705608  0.118865 -0.341678 -0.440365 -0.818758\n",
       "13  0.153155  0.244842 -0.474149 -0.018172  0.242510 -0.841690\n",
       "14 -0.552133 -0.891378 -0.102478 -0.266993 -0.244969  0.244310\n",
       "15 -0.405228 -1.266062 -0.296066 -0.316391  0.122950 -0.163114\n",
       "16 -0.262599  0.120020  0.215330  0.427719  0.457413  0.674009\n",
       "17  0.411483  0.291307  0.728810  0.439335  0.488482  0.746174\n",
       "18  0.943949  0.769389  0.945879  0.231663  0.215961  0.672694\n",
       "19  0.296442 -0.189104  0.039084  0.179226  0.541303  0.557297\n",
       "20  0.656224  0.091582  0.243660  0.106623  0.040866  0.042557\n",
       "21  0.325154  0.035335 -0.484423  0.220622 -0.074613  0.001736\n",
       "22 -0.176434 -0.675076  0.740373  0.691198 -0.022396  0.214338\n",
       "23 -0.294846 -0.384611  0.510673  0.582239  0.222702  1.581626\n",
       "24  0.559894  0.683170  1.221496  0.570349  1.219851  1.788310\n",
       "25  0.460360 -0.455268  0.283249  0.409033  0.590564  0.638064\n",
       "26 -0.666085  0.455968 -0.067568 -0.271025 -0.440158  1.440647"
      ]
     },
     "execution_count": 133,
     "metadata": {},
     "output_type": "execute_result"
    }
   ],
   "source": [
    "mean = df.groupby(np.arange(len(df))//365).mean()\n",
    "fake = df.groupby(np.arange(len(df))//365).mean()+np.random.randn()\n",
    "mean"
   ]
  },
  {
   "cell_type": "code",
   "execution_count": 184,
   "metadata": {},
   "outputs": [
    {
     "data": {
      "text/plain": [
       "27"
      ]
     },
     "execution_count": 184,
     "metadata": {},
     "output_type": "execute_result"
    }
   ],
   "source": [
    "mean.iloc[:,0:]=np.sort(mean.iloc[:,0:].to_numpy(),axis=0)\n",
    "fake.iloc[:,0:]=np.sort(fake.iloc[:,0:].to_numpy(),axis=0)\n",
    "len(mean)"
   ]
  },
  {
   "cell_type": "code",
   "execution_count": 188,
   "metadata": {},
   "outputs": [
    {
     "name": "stdout",
     "output_type": "stream",
     "text": [
      "-0.08196443771435874\n",
      "-0.10689868399569925\n",
      "-0.08032744457673563\n",
      "-0.06048759874224015\n",
      "-0.06504145524643916\n",
      "-0.11548511998816881\n",
      "-0.07361681765810381\n",
      "-0.08609376855481499\n",
      "-0.07835482996258583\n",
      "-0.059108423531759435\n",
      "-0.06274390999568143\n",
      "-0.11298726853721529\n",
      "-0.0655209682668507\n",
      "-0.0810583884315641\n",
      "-0.07394099910384214\n",
      "-0.054923176153497524\n",
      "-0.05776699857695771\n",
      "-0.10923104352100524\n",
      "-0.057662175650919203\n",
      "-0.06614103307788362\n",
      "-0.07354803309769828\n",
      "-0.04827414985337498\n",
      "-0.049954072166187725\n",
      "-0.10244216395798161\n",
      "-0.052978124208326996\n",
      "-0.05314523243429444\n",
      "-0.06918713029672964\n",
      "-0.043616599302909155\n",
      "-0.049939734825746596\n",
      "-0.09071613137253574\n",
      "-0.05161778107196733\n",
      "-0.050981837675543006\n",
      "-0.06832741394626796\n",
      "-0.043148050068557035\n",
      "-0.043015986706756326\n",
      "-0.09039685142891783\n",
      "-0.04753083588244966\n",
      "-0.048786301777264\n",
      "-0.0529924995366126\n",
      "-0.0414040821495031\n",
      "-0.041075598851523\n",
      "-0.07763165247920131\n",
      "-0.0426863050764374\n",
      "-0.04610891402194557\n",
      "-0.052283949670882145\n",
      "-0.038942188440275784\n",
      "-0.03703203294561798\n",
      "-0.07605008974606355\n",
      "-0.03991824397361425\n",
      "-0.03831289969089138\n",
      "-0.040002384828241803\n",
      "-0.03827539522509783\n",
      "-0.03647843244201903\n",
      "-0.056392023404308884\n",
      "-0.03769433853230206\n",
      "-0.03518781878399142\n",
      "-0.0376216561317869\n",
      "-0.03799735165169991\n",
      "-0.030216749896668966\n",
      "-0.041161160138337656\n",
      "-0.032345225788111893\n",
      "-0.0326256684956657\n",
      "-0.026651485120393812\n",
      "-0.02955334387018488\n",
      "-0.026657036640556932\n",
      "-0.03083325628860568\n",
      "-0.031751901558409984\n",
      "-0.03105560911090041\n",
      "-0.024243902522915604\n",
      "-0.02906786507363435\n",
      "-0.026332036726103812\n",
      "-0.019464330038159706\n",
      "-0.027784057224032217\n",
      "-0.022205332743834644\n",
      "-0.01688857581725211\n",
      "-0.02642062310762446\n",
      "-0.024729796199812665\n",
      "-0.0166490551118956\n",
      "-0.026831746997984025\n",
      "-0.017147135865780108\n",
      "-0.014150746640806131\n",
      "-0.022564279593662036\n",
      "-0.024435085853721995\n",
      "-0.01413226725918198\n",
      "-0.009450572137622884\n",
      "-0.013268061571961825\n",
      "-0.013151194630724025\n",
      "-0.020837281488217903\n",
      "-0.023811535483344182\n",
      "-0.00626077931391127\n",
      "-0.009021602086072745\n",
      "-0.011306835319768666\n",
      "-0.011386474110063905\n",
      "-0.016542539814714978\n",
      "-0.021128572047190618\n",
      "-0.004802116749793338\n",
      "-0.008906387552975424\n",
      "-0.0067872583947812416\n",
      "-0.004733682411020381\n",
      "-0.012230713146541285\n",
      "-0.01797683411930339\n",
      "-0.0027350806866251218\n",
      "-0.005465671257976941\n",
      "-0.004058845473483422\n",
      "-0.0027799348742304007\n",
      "-0.007223633466849017\n",
      "-0.016765714347236806\n",
      "0.018850214157901852\n",
      "0.000860211880573962\n",
      "-0.0032784722132963916\n",
      "-4.966533317535462e-05\n",
      "-0.004368727604719226\n",
      "-0.011104753948643511\n",
      "0.023934733840289706\n",
      "0.0028404034157333163\n",
      "-0.002698369580502918\n",
      "0.0011161667503843111\n",
      "-0.0036072616817719528\n",
      "-0.0046901700069216495\n",
      "0.024420351012721976\n",
      "0.004803601873806191\n",
      "0.0005060824142459092\n",
      "0.003510025018846261\n",
      "2.8086910634797415e-05\n",
      "-0.004225293495303962\n",
      "0.026808633832409556\n",
      "0.00879412478612823\n",
      "0.011862025487758457\n",
      "0.015634772695043937\n",
      "0.008625158046397205\n",
      "-0.0028591841893402764\n",
      "0.0268993473062823\n",
      "0.01216493753161065\n",
      "0.027531117852081177\n",
      "0.016105236578124644\n",
      "0.009913833193461508\n",
      "0.01196167980329012\n",
      "0.031876229287733926\n",
      "0.01902935992092162\n",
      "0.029324317537915836\n",
      "0.03067871917932546\n",
      "0.010714953461160312\n",
      "0.01410437987216381\n",
      "0.07731213746118062\n",
      "0.024469129179370646\n",
      "0.03347727390861302\n",
      "0.03147613768386092\n",
      "0.019750336376781107\n",
      "0.017747224596929425\n",
      "0.07977093824744065\n",
      "0.025672775760444237\n",
      "0.048050768390599574\n",
      "0.04564897382112907\n",
      "0.02057035231909031\n",
      "0.02114449275480586\n",
      "0.08949363030327748\n",
      "0.04551590206603834\n",
      "0.09804407915102996\n",
      "0.06465704552413218\n",
      "0.028084780695386582\n",
      "0.06454359098533259\n",
      "0.10374765452856154\n"
     ]
    }
   ],
   "source": [
    "for i in range(0, len(mean)):\n",
    "    for j in range(0, len(mean.columns)):\n",
    "        print((1/(len(fake)+2))*(mean.iloc[i,j]+fake.iloc[i,j]))"
   ]
  },
  {
   "cell_type": "code",
   "execution_count": 177,
   "metadata": {},
   "outputs": [],
   "source": [
    "def Anderson_Darling_Dist(XX, YY):\n",
    "  \n",
    "    import numpy as np\n",
    "    nx = len(XX)\n",
    "    ny = len(YY)\n",
    "    n = nx + ny\n",
    "\n",
    "    XY = np.concatenate([XX,YY])\n",
    "    X2 = np.concatenate([np.repeat(1/nx, nx), np.repeat(0, ny)])\n",
    "    Y2 = np.concatenate([np.repeat(0, nx), np.repeat(1/ny, ny)])\n",
    "\n",
    "    S_Ind = np.argsort(XY)\n",
    "    XY_Sorted = XY[S_Ind]\n",
    "    X2_Sorted = X2[S_Ind]\n",
    "    Y2_Sorted = Y2[S_Ind]\n",
    "\n",
    "    Res = 0\n",
    "    E_CDF = 0\n",
    "    F_CDF = 0\n",
    "    G_CDF = 0\n",
    "    height = 0\n",
    "    SD = 0\n",
    "    power = 1\n",
    "\n",
    "    for ii in range(0, n-2):\n",
    "        E_CDF = E_CDF + X2_Sorted[ii]\n",
    "        F_CDF = F_CDF + Y2_Sorted[ii]\n",
    "        G_CDF = G_CDF + 1/n\n",
    "        SD = (n * G_CDF * (1-G_CDF))**0.5\n",
    "        height = abs(F_CDF - E_CDF)\n",
    "        if XY_Sorted[ii+1] != XY_Sorted[ii]: \n",
    "            if SD>0: \n",
    "                Res = Res + (height/SD)**power\n",
    "\n",
    "    AD_Dist = Res\n",
    "    \n",
    "    return AD_Dist\n",
    "\n"
   ]
  },
  {
   "cell_type": "code",
   "execution_count": 322,
   "metadata": {},
   "outputs": [
    {
     "name": "stdout",
     "output_type": "stream",
     "text": [
      "24.744487619277717\n"
     ]
    }
   ],
   "source": [
    "Dist = Anderson_Darling_Dist(val_np[0], fake_np[0])\n",
    "    \n",
    "print(Dist)"
   ]
  },
  {
   "cell_type": "code",
   "execution_count": 201,
   "metadata": {},
   "outputs": [
    {
     "name": "stdout",
     "output_type": "stream",
     "text": [
      "5.088042742867977\n",
      "4.214785214484409\n",
      "4.321694506151638\n",
      "6.087419527952814\n",
      "5.927022969291689\n",
      "3.0196074041655177\n"
     ]
    }
   ],
   "source": [
    "for i in(mean.columns):\n",
    "     print(Anderson_Darling_Dist(mean[i], fake[i]))\n",
    "    "
   ]
  },
  {
   "cell_type": "code",
   "execution_count": 198,
   "metadata": {},
   "outputs": [],
   "source": [
    "u_tilde = np.array(0)"
   ]
  },
  {
   "cell_type": "code",
   "execution_count": 199,
   "metadata": {},
   "outputs": [
    {
     "data": {
      "text/plain": [
       "array(0)"
      ]
     },
     "execution_count": 199,
     "metadata": {},
     "output_type": "execute_result"
    }
   ],
   "source": [
    "u_tilde"
   ]
  },
  {
   "cell_type": "code",
   "execution_count": null,
   "metadata": {},
   "outputs": [],
   "source": []
  }
 ],
 "metadata": {
  "kernelspec": {
   "display_name": "Python 3",
   "language": "python",
   "name": "python3"
  },
  "language_info": {
   "codemirror_mode": {
    "name": "ipython",
    "version": 3
   },
   "file_extension": ".py",
   "mimetype": "text/x-python",
   "name": "python",
   "nbconvert_exporter": "python",
   "pygments_lexer": "ipython3",
   "version": "3.7.4"
  }
 },
 "nbformat": 4,
 "nbformat_minor": 5
}
